{
 "cells": [
  {
   "cell_type": "code",
   "execution_count": 2,
   "id": "64c4f8ac",
   "metadata": {},
   "outputs": [
    {
     "name": "stdout",
     "output_type": "stream",
     "text": [
      "[43 34 34 12 11]\n",
      "<class 'numpy.ndarray'>\n"
     ]
    }
   ],
   "source": [
    "# NumPy is a python library\n",
    "# NumPy is used for working with arrays\n",
    "# NumPy is short for \"Numerical Python\"\n",
    "\n",
    "# ========== LEARNING NumPy from Scratch =========\n",
    "\n",
    "\n",
    "# importing numpy\n",
    "import numpy as np\n",
    "\n",
    "\n",
    "# The array object in NumPy is called ndarray\n",
    "\n",
    "# creating a array\n",
    "arr = np.array([43,34,34,12,11])\n",
    "print(arr)  # [43 34 34 12 11]\n",
    "\n",
    "# printing the type of arr\n",
    "print(type(arr))  # <class 'numpy.ndarray'>\n"
   ]
  },
  {
   "cell_type": "code",
   "execution_count": null,
   "id": "d2b4764c",
   "metadata": {},
   "outputs": [],
   "source": []
  }
 ],
 "metadata": {
  "kernelspec": {
   "display_name": "Python 3 (ipykernel)",
   "language": "python",
   "name": "python3"
  },
  "language_info": {
   "codemirror_mode": {
    "name": "ipython",
    "version": 3
   },
   "file_extension": ".py",
   "mimetype": "text/x-python",
   "name": "python",
   "nbconvert_exporter": "python",
   "pygments_lexer": "ipython3",
   "version": "3.11.5"
  }
 },
 "nbformat": 4,
 "nbformat_minor": 5
}
