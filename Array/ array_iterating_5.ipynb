{
 "cells": [
  {
   "cell_type": "markdown",
   "id": "9bcec0a8",
   "metadata": {},
   "source": [
    "# Numpy Array Iterating "
   ]
  },
  {
   "cell_type": "markdown",
   "id": "f4e458ca",
   "metadata": {},
   "source": [
    "###### Iterating means going through elements one by one. "
   ]
  },
  {
   "cell_type": "code",
   "execution_count": 1,
   "id": "0e0f6288",
   "metadata": {},
   "outputs": [
    {
     "name": "stdout",
     "output_type": "stream",
     "text": [
      "1\n",
      "2\n",
      "3\n",
      "4\n",
      "5\n"
     ]
    }
   ],
   "source": [
    "# Iterating on the elements of the 1-D array:\n",
    "import numpy as np\n",
    "arr = np.array([1,2,3,4,5])\n",
    "\n",
    "for x in arr:\n",
    "    print(x)"
   ]
  },
  {
   "cell_type": "markdown",
   "id": "d43fba7f",
   "metadata": {},
   "source": [
    "##### Iterating 2-D Arrays"
   ]
  },
  {
   "cell_type": "code",
   "execution_count": 2,
   "id": "e8d6700f",
   "metadata": {},
   "outputs": [
    {
     "name": "stdout",
     "output_type": "stream",
     "text": [
      "[1 2 3]\n",
      "[4 5 6]\n"
     ]
    }
   ],
   "source": [
    "two_dimn_arr = np.array([[1,2,3], [4,5,6]])\n",
    "for x in two_dimn_arr:\n",
    "    print(x)"
   ]
  },
  {
   "cell_type": "markdown",
   "id": "b7005f4b",
   "metadata": {},
   "source": [
    "##### Iterate on each scalar element of the 2-D array:"
   ]
  },
  {
   "cell_type": "code",
   "execution_count": 3,
   "id": "962d2422",
   "metadata": {},
   "outputs": [
    {
     "name": "stdout",
     "output_type": "stream",
     "text": [
      "1\n",
      "2\n",
      "3\n",
      "4\n",
      "5\n",
      "6\n"
     ]
    }
   ],
   "source": [
    "two_dimn = np.array([[1,2,3],[4,5,6]])\n",
    "\n",
    "for x in two_dimn:\n",
    "    for y in x:\n",
    "        print(y)"
   ]
  },
  {
   "cell_type": "markdown",
   "id": "46b922b4",
   "metadata": {},
   "source": [
    "#### Iterating 3-D Arrays"
   ]
  },
  {
   "cell_type": "code",
   "execution_count": 7,
   "id": "6373b145",
   "metadata": {},
   "outputs": [
    {
     "name": "stdout",
     "output_type": "stream",
     "text": [
      "1\n",
      "2\n",
      "3\n",
      "4\n",
      "5\n",
      "6\n",
      "5\n",
      "6\n",
      "8\n",
      "0\n",
      "9\n",
      "8\n"
     ]
    }
   ],
   "source": [
    "three_dimn_array = np.array([[[1,2,3], [4,5,6]], [[5,6,8], [0,9,8]]])\n",
    "\n",
    "for x in three_dimn_array:\n",
    "    for y in x:\n",
    "        for z in y:\n",
    "            print(z)"
   ]
  },
  {
   "cell_type": "markdown",
   "id": "2bc7ad42",
   "metadata": {},
   "source": [
    "#### Iterating Arrays Using nditer()"
   ]
  },
  {
   "cell_type": "code",
   "execution_count": 10,
   "id": "1ed3ad46",
   "metadata": {},
   "outputs": [
    {
     "name": "stdout",
     "output_type": "stream",
     "text": [
      "1\n",
      "2\n",
      "3\n",
      "4\n",
      "5\n",
      "6\n",
      "7\n",
      "8\n"
     ]
    }
   ],
   "source": [
    "import numpy as np\n",
    "arr = np.array([[[1, 2], [3, 4]], [[5, 6], [7, 8]]])\n",
    "\n",
    "for x in np.nditer(arr):\n",
    "    print(x)"
   ]
  },
  {
   "cell_type": "markdown",
   "id": "86448266",
   "metadata": {},
   "source": [
    "#### Iterating With Different Step Size"
   ]
  },
  {
   "cell_type": "code",
   "execution_count": 14,
   "id": "b3068e27",
   "metadata": {},
   "outputs": [
    {
     "name": "stdout",
     "output_type": "stream",
     "text": [
      "1\n",
      "3\n",
      "5\n",
      "7\n"
     ]
    }
   ],
   "source": [
    "arr = np.array([[1, 2, 3, 4], [5, 6, 7, 8]])\n",
    "for x in np.nditer(arr[:,  ::2]):\n",
    "    print(x)"
   ]
  },
  {
   "cell_type": "markdown",
   "id": "1e98c8f3",
   "metadata": {},
   "source": [
    "#### Enumerated Iteration Using ndenumerate()"
   ]
  },
  {
   "cell_type": "markdown",
   "id": "ebfb7ad2",
   "metadata": {},
   "source": [
    "###### Enumerate on 1-D arrays element"
   ]
  },
  {
   "cell_type": "code",
   "execution_count": 15,
   "id": "52d6f26d",
   "metadata": {},
   "outputs": [
    {
     "name": "stdout",
     "output_type": "stream",
     "text": [
      "(0,) 1\n",
      "(1,) 2\n",
      "(2,) 3\n",
      "(3,) 4\n",
      "(4,) 5\n"
     ]
    }
   ],
   "source": [
    "arr = np.array([1, 2, 3, 4, 5])\n",
    "\n",
    "for idx, x in np.ndenumerate(arr):\n",
    "    print(idx,x)\n"
   ]
  },
  {
   "cell_type": "markdown",
   "id": "8837c510",
   "metadata": {},
   "source": [
    "###### Enumerate on 2-D arrays element"
   ]
  },
  {
   "cell_type": "code",
   "execution_count": 21,
   "id": "a133ebce",
   "metadata": {},
   "outputs": [
    {
     "name": "stdout",
     "output_type": "stream",
     "text": [
      "(0, 0) 1\n",
      "(0, 1) 2\n",
      "(0, 2) 3\n",
      "(0, 3) 4\n",
      "(1, 0) 5\n",
      "(1, 1) 6\n",
      "(1, 2) 7\n",
      "(1, 3) 8\n"
     ]
    }
   ],
   "source": [
    "arr = np.array([[1, 2, 3, 4], [5,6,7,8]])\n",
    "\n",
    "for idx, x in np.ndenumerate(arr):\n",
    "    print(idx, x)\n"
   ]
  }
 ],
 "metadata": {
  "kernelspec": {
   "display_name": "Python 3 (ipykernel)",
   "language": "python",
   "name": "python3"
  },
  "language_info": {
   "codemirror_mode": {
    "name": "ipython",
    "version": 3
   },
   "file_extension": ".py",
   "mimetype": "text/x-python",
   "name": "python",
   "nbconvert_exporter": "python",
   "pygments_lexer": "ipython3",
   "version": "3.11.5"
  }
 },
 "nbformat": 4,
 "nbformat_minor": 5
}
