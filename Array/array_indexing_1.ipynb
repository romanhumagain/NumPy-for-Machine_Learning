{
 "cells": [
  {
   "cell_type": "code",
   "execution_count": 3,
   "id": "19937831",
   "metadata": {},
   "outputs": [
    {
     "name": "stdout",
     "output_type": "stream",
     "text": [
      "The value at index 1 is 2\n"
     ]
    }
   ],
   "source": [
    "import numpy as np\n",
    "\n",
    "# creating an array\n",
    "arr = np.array([1,2,3,4])\n",
    "\n",
    "# to get the value 2 from the array\n",
    "print(f\"The value at index 1 is {arr[1]}\")"
   ]
  },
  {
   "cell_type": "code",
   "execution_count": 13,
   "id": "d8a4afe6",
   "metadata": {},
   "outputs": [
    {
     "name": "stdout",
     "output_type": "stream",
     "text": [
      "The third element on second row is 7\n"
     ]
    }
   ],
   "source": [
    "# Accessing 2-D array\n",
    "\n",
    "arr = np.array([[1,2,4], [5,6,7]])\n",
    "\n",
    "# to access the element of second row third column which is 7\n",
    "\n",
    "print(f\"The third element on second row is {arr[1,2]}\")"
   ]
  },
  {
   "cell_type": "code",
   "execution_count": 14,
   "id": "05b014fd",
   "metadata": {},
   "outputs": [
    {
     "name": "stdout",
     "output_type": "stream",
     "text": [
      "The last element from the Second Dim is 10\n"
     ]
    }
   ],
   "source": [
    "# Negative indexing\n",
    "\n",
    "# Printing the last element from the 2nd dim:\n",
    "\n",
    "import numpy as np\n",
    "\n",
    "arr = np.array([[1,2,3,4,5], [6,7,8,9,10]])\n",
    "print(f\"The last element from the Second Dim is {arr[1,-1]}\")\n"
   ]
  },
  {
   "cell_type": "code",
   "execution_count": null,
   "id": "84ef4be0",
   "metadata": {},
   "outputs": [],
   "source": []
  },
  {
   "cell_type": "code",
   "execution_count": null,
   "id": "6af56f04",
   "metadata": {},
   "outputs": [],
   "source": []
  },
  {
   "cell_type": "code",
   "execution_count": null,
   "id": "8bdd433f",
   "metadata": {},
   "outputs": [],
   "source": []
  },
  {
   "cell_type": "code",
   "execution_count": null,
   "id": "24cc49cf",
   "metadata": {},
   "outputs": [],
   "source": []
  }
 ],
 "metadata": {
  "kernelspec": {
   "display_name": "Python 3 (ipykernel)",
   "language": "python",
   "name": "python3"
  },
  "language_info": {
   "codemirror_mode": {
    "name": "ipython",
    "version": 3
   },
   "file_extension": ".py",
   "mimetype": "text/x-python",
   "name": "python",
   "nbconvert_exporter": "python",
   "pygments_lexer": "ipython3",
   "version": "3.11.5"
  }
 },
 "nbformat": 4,
 "nbformat_minor": 5
}
