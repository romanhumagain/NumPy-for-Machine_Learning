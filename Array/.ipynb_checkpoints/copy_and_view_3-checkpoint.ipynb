{
 "cells": [
  {
   "cell_type": "markdown",
   "id": "c2007db8",
   "metadata": {},
   "source": [
    "# NumPy Array Copy vs View"
   ]
  },
  {
   "cell_type": "markdown",
   "id": "8be3c4a1",
   "metadata": {},
   "source": [
    "The main difference between a copy and a view of an array is that the copy is a new array, and the view is just a view of the original array.\n",
    "\n",
    "The copy owns the data and any changes made to the copy will not affect original array, and any changes made to the original array will not affect the copy.\n",
    "\n",
    "The view does not own the data and any changes made to the view will affect the original array, and any changes made to the original array will affect the view."
   ]
  },
  {
   "cell_type": "code",
   "execution_count": 3,
   "id": "90294ea0",
   "metadata": {},
   "outputs": [
    {
     "name": "stdout",
     "output_type": "stream",
     "text": [
      "The original array is [69  2  3  4  5  6]\n",
      "The copied array is [69  2  3  4  5  6]\n"
     ]
    }
   ],
   "source": [
    "import numpy as np\n",
    "arr = np.array([1,2,3,4,5,6])\n",
    "\n",
    "# using the copy method to copy the array arr\n",
    "x = arr.copy()\n",
    "arr[0] = 69\n",
    "\n",
    "print(f\"The original array is {arr}\")\n",
    "print(f\"The copied array is {x}\")"
   ]
  },
  {
   "cell_type": "markdown",
   "id": "67dbdace",
   "metadata": {},
   "source": [
    "###### Working with VIEW"
   ]
  },
  {
   "cell_type": "code",
   "execution_count": 4,
   "id": "a28b124b",
   "metadata": {},
   "outputs": [
    {
     "name": "stdout",
     "output_type": "stream",
     "text": [
      "The orignal array [99 89 34  2 33]\n",
      "The array after using view is [99 89 34  2 33]\n"
     ]
    }
   ],
   "source": [
    "\n",
    "# creating a new numpy array\n",
    "arr = np.array([9, 89, 34, 2, 33])\n",
    "x = arr.view()\n",
    "\n",
    "arr[0] = 99\n",
    "\n",
    "print(f\"The orignal array {arr}\")\n",
    "print(f\"The array after using view is {x}\")"
   ]
  },
  {
   "cell_type": "markdown",
   "id": "eb0774c8",
   "metadata": {},
   "source": [
    "###### Making Change in the view function\n",
    "Any changes made to the view will affect the original array"
   ]
  },
  {
   "cell_type": "code",
   "execution_count": 5,
   "id": "c1d81e75",
   "metadata": {},
   "outputs": [
    {
     "name": "stdout",
     "output_type": "stream",
     "text": [
      "[3669   89   34    2   33]\n",
      "[3669   89   34    2   33]\n"
     ]
    }
   ],
   "source": [
    "x[0] = 3669\n",
    "print(arr)\n",
    "print(x)"
   ]
  },
  {
   "cell_type": "markdown",
   "id": "1f986948",
   "metadata": {},
   "source": [
    "### Check if Array Owns its Data\n",
    "Copies owns the data and views doesn't owns the data\n",
    "\n",
    "Every NumPy array has the attribute base that returns None if the array owns the data\n",
    "Otherwise the base attribute refers to the original object"
   ]
  },
  {
   "cell_type": "code",
   "execution_count": 7,
   "id": "588559e6",
   "metadata": {},
   "outputs": [
    {
     "name": "stdout",
     "output_type": "stream",
     "text": [
      "None\n",
      "[87 34 23]\n"
     ]
    }
   ],
   "source": [
    "\n",
    "# creating a new array\n",
    "arr = np.array([87, 34, 23])\n",
    "\n",
    "# using copy() method\n",
    "x_copy = arr.copy()\n",
    "y_view = arr.view()\n",
    "\n",
    "print(x_copy.base)\n",
    "print(y_view.base)"
   ]
  },
  {
   "cell_type": "code",
   "execution_count": null,
   "id": "df099d91",
   "metadata": {},
   "outputs": [],
   "source": []
  }
 ],
 "metadata": {
  "kernelspec": {
   "display_name": "Python 3 (ipykernel)",
   "language": "python",
   "name": "python3"
  },
  "language_info": {
   "codemirror_mode": {
    "name": "ipython",
    "version": 3
   },
   "file_extension": ".py",
   "mimetype": "text/x-python",
   "name": "python",
   "nbconvert_exporter": "python",
   "pygments_lexer": "ipython3",
   "version": "3.11.5"
  }
 },
 "nbformat": 4,
 "nbformat_minor": 5
}
