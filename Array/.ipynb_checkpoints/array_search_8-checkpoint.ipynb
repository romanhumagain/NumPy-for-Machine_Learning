{
 "cells": [
  {
   "cell_type": "markdown",
   "id": "73850b60",
   "metadata": {},
   "source": [
    "# NumPy Searching Arrays"
   ]
  },
  {
   "cell_type": "markdown",
   "id": "bcaa4e04",
   "metadata": {},
   "source": [
    "#### Searching Arrays\n"
   ]
  },
  {
   "cell_type": "markdown",
   "id": "04485f8e",
   "metadata": {},
   "source": [
    "###### We can search an array for a certain value and return the indexs that get a match. To search an array we use where() method"
   ]
  },
  {
   "cell_type": "code",
   "execution_count": 1,
   "id": "927a83ff",
   "metadata": {},
   "outputs": [
    {
     "name": "stdout",
     "output_type": "stream",
     "text": [
      "(array([3, 6, 9], dtype=int64),)\n"
     ]
    }
   ],
   "source": [
    "import numpy as np\n",
    "\n",
    "arr = np.array([1,2,3,4,5,6,4,3,7,4])\n",
    "\n",
    "# finding the indexs where the value is 4\n",
    "x = np.where(arr == 4)\n",
    "print(x)"
   ]
  },
  {
   "cell_type": "markdown",
   "id": "76f94c8c",
   "metadata": {},
   "source": [
    "###### Finding the index where the value are even"
   ]
  },
  {
   "cell_type": "code",
   "execution_count": 2,
   "id": "604e4771",
   "metadata": {},
   "outputs": [
    {
     "name": "stdout",
     "output_type": "stream",
     "text": [
      "(array([1, 3, 5, 6, 9], dtype=int64),)\n"
     ]
    }
   ],
   "source": [
    "x = np.where(arr % 2 == 0)\n",
    "print(x)"
   ]
  },
  {
   "cell_type": "markdown",
   "id": "e3c435c6",
   "metadata": {},
   "source": [
    "### Search Sorted"
   ]
  },
  {
   "cell_type": "markdown",
   "id": "e7461426",
   "metadata": {},
   "source": [
    "###### There is method called searchsorted() which performs a binary search in the array and returns the index where the specified vallue can be inserted  to maintain the search order"
   ]
  },
  {
   "cell_type": "code",
   "execution_count": 4,
   "id": "ceace412",
   "metadata": {},
   "outputs": [
    {
     "name": "stdout",
     "output_type": "stream",
     "text": [
      "0\n",
      "1\n"
     ]
    }
   ],
   "source": [
    "new_arr = np.array([1,4,6,9])\n",
    "x = np.searchsorted(arr, 0)\n",
    "print(x)\n",
    "y = np.searchsorted(arr, 2)\n",
    "print(y)\n"
   ]
  },
  {
   "cell_type": "markdown",
   "id": "d2618b4f",
   "metadata": {},
   "source": [
    "### Search From the Right Side"
   ]
  },
  {
   "cell_type": "markdown",
   "id": "635779c5",
   "metadata": {},
   "source": [
    "###### By default the left most index is returned but we can give a argument side = \"right\" to return the right most index instead    "
   ]
  },
  {
   "cell_type": "code",
   "execution_count": 14,
   "id": "51b57883",
   "metadata": {},
   "outputs": [
    {
     "name": "stdout",
     "output_type": "stream",
     "text": [
      "2\n"
     ]
    }
   ],
   "source": [
    "arr = np.array([6, 7, 8, 9])\n",
    "\n",
    "x = np.searchsorted(arr, 7, side='right')\n",
    "\n",
    "print(x)\n"
   ]
  },
  {
   "cell_type": "code",
   "execution_count": null,
   "id": "0d34d359",
   "metadata": {},
   "outputs": [],
   "source": []
  }
 ],
 "metadata": {
  "kernelspec": {
   "display_name": "Python 3 (ipykernel)",
   "language": "python",
   "name": "python3"
  },
  "language_info": {
   "codemirror_mode": {
    "name": "ipython",
    "version": 3
   },
   "file_extension": ".py",
   "mimetype": "text/x-python",
   "name": "python",
   "nbconvert_exporter": "python",
   "pygments_lexer": "ipython3",
   "version": "3.11.5"
  }
 },
 "nbformat": 4,
 "nbformat_minor": 5
}
