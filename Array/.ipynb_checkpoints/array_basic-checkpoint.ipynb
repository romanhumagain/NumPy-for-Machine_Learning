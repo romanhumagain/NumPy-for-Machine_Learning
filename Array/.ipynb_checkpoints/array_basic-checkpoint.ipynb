{
 "cells": [
  {
   "cell_type": "code",
   "execution_count": 1,
   "id": "11a16ba5",
   "metadata": {},
   "outputs": [
    {
     "name": "stdout",
     "output_type": "stream",
     "text": [
      "The array so formed is [45 67 78]\n"
     ]
    }
   ],
   "source": [
    "import numpy as np\n",
    "\n",
    "# creating an array using array function\n",
    "\n",
    "arr = np.array([45, 67, 78])\n",
    "print(f\"The array so formed is {arr}\")"
   ]
  },
  {
   "cell_type": "code",
   "execution_count": 2,
   "id": "451de2c5",
   "metadata": {},
   "outputs": [
    {
     "name": "stdout",
     "output_type": "stream",
     "text": [
      "The 0-D array is 69\n"
     ]
    }
   ],
   "source": [
    "# Concepts of Dimensions in Array\n",
    "# nested array have arrays as thier elements\n",
    "\n",
    "# 0-D Arrays\n",
    "\n",
    "# creating a 0-D Arrays with value 69\n",
    "arr = np.array(69)\n",
    "print(f\"The 0-D array is {arr}\")"
   ]
  },
  {
   "cell_type": "code",
   "execution_count": 3,
   "id": "8f4980e3",
   "metadata": {},
   "outputs": [
    {
     "name": "stdout",
     "output_type": "stream",
     "text": [
      "The 1-D Arrays is [34 35 24 56]\n"
     ]
    }
   ],
   "source": [
    "# 1-D Arrays\n",
    "arr = np.array([34, 35, 24, 56])\n",
    "print(f\"The 1-D Arrays is {arr}\")"
   ]
  },
  {
   "cell_type": "code",
   "execution_count": 5,
   "id": "46e487c0",
   "metadata": {},
   "outputs": [
    {
     "name": "stdout",
     "output_type": "stream",
     "text": [
      "The 2-D arrays is [[ 3 45 45]\n",
      " [45 67 34]\n",
      " [90 20 70]]\n"
     ]
    }
   ],
   "source": [
    "# An array that has 1-D Arrays as its element is called 2-D array\n",
    "\n",
    "arr = np.array([[3,45,45], [45,67,34],[90,20,70]])\n",
    "print(f\"The 2-D arrays is {arr}\")"
   ]
  },
  {
   "cell_type": "code",
   "execution_count": 7,
   "id": "794be297",
   "metadata": {},
   "outputs": [
    {
     "name": "stdout",
     "output_type": "stream",
     "text": [
      "The 3-D array is [[[34 45 56]\n",
      "  [56 23 78]]\n",
      "\n",
      " [[ 1  2  3]\n",
      "  [ 4  6  8]]]\n"
     ]
    }
   ],
   "source": [
    "# 3-D Arrays\n",
    "# An array that has 2-D arrays  as its element is called 3-D array\n",
    "\n",
    "arr = np.array([[[34,45,56], [56,23,78]], [[1,2,3], [4,6,8]]])\n",
    "print(f\"The 3-D array is {arr}\")"
   ]
  },
  {
   "cell_type": "code",
   "execution_count": 10,
   "id": "d4030872",
   "metadata": {},
   "outputs": [
    {
     "name": "stdout",
     "output_type": "stream",
     "text": [
      "2\n"
     ]
    }
   ],
   "source": [
    "# to check the how many dimensions does array have\n",
    "# creating 2 dimensions array\n",
    "\n",
    "# the ndim argument is used to check the dimension of the array\n",
    "\n",
    "arr1 = np.array([[1,2,4], [6,7,8]])\n",
    "print(arr1.ndim) #2\n",
    "\n"
   ]
  },
  {
   "cell_type": "code",
   "execution_count": 11,
   "id": "e9afa4db",
   "metadata": {},
   "outputs": [
    {
     "name": "stdout",
     "output_type": "stream",
     "text": [
      "[[[[[1 2 3 5]]]]]\n"
     ]
    }
   ],
   "source": [
    "# When the array is created, you can define the number of dimension by using the ndmin argument\n",
    "\n",
    "arr = np.array([1,2,3,5], ndmin = 5)\n",
    "\n",
    "print(arr) # [[[[[1 2 3 5]]]]]"
   ]
  },
  {
   "cell_type": "code",
   "execution_count": null,
   "id": "fc39d9d9",
   "metadata": {},
   "outputs": [],
   "source": []
  }
 ],
 "metadata": {
  "kernelspec": {
   "display_name": "Python 3 (ipykernel)",
   "language": "python",
   "name": "python3"
  },
  "language_info": {
   "codemirror_mode": {
    "name": "ipython",
    "version": 3
   },
   "file_extension": ".py",
   "mimetype": "text/x-python",
   "name": "python",
   "nbconvert_exporter": "python",
   "pygments_lexer": "ipython3",
   "version": "3.11.5"
  }
 },
 "nbformat": 4,
 "nbformat_minor": 5
}
