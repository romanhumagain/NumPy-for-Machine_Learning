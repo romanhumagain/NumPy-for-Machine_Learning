{
 "cells": [
  {
   "cell_type": "markdown",
   "id": "13607828",
   "metadata": {},
   "source": [
    "# NumPy Sorting Arrays"
   ]
  },
  {
   "cell_type": "markdown",
   "id": "6442f679",
   "metadata": {},
   "source": [
    "###### sorting means putting elements in an ordered sequence."
   ]
  },
  {
   "cell_type": "code",
   "execution_count": 2,
   "id": "992cd7f2",
   "metadata": {},
   "outputs": [
    {
     "name": "stdout",
     "output_type": "stream",
     "text": [
      "[1 2 4 4 6 8 9]\n"
     ]
    }
   ],
   "source": [
    "import numpy as np\n",
    "\n",
    "arr = np.array([1,9,4,2,6,4,8])\n",
    "\n",
    "print(np.sort(arr))"
   ]
  },
  {
   "cell_type": "code",
   "execution_count": 3,
   "id": "03c051f9",
   "metadata": {},
   "outputs": [
    {
     "name": "stdout",
     "output_type": "stream",
     "text": [
      "['apple' 'banana' 'cherry']\n"
     ]
    }
   ],
   "source": [
    "arr = np.array(['banana', 'cherry', 'apple'])\n",
    "\n",
    "print(np.sort(arr))\n"
   ]
  },
  {
   "cell_type": "code",
   "execution_count": 4,
   "id": "ba5dc3e2",
   "metadata": {},
   "outputs": [
    {
     "name": "stdout",
     "output_type": "stream",
     "text": [
      "[False  True  True]\n"
     ]
    }
   ],
   "source": [
    "arr = np.array([True, False, True])\n",
    "\n",
    "print(np.sort(arr))\n"
   ]
  },
  {
   "cell_type": "markdown",
   "id": "f068ab7b",
   "metadata": {},
   "source": [
    "### Sorting a 2-D array"
   ]
  },
  {
   "cell_type": "code",
   "execution_count": 5,
   "id": "060bdc14",
   "metadata": {},
   "outputs": [
    {
     "name": "stdout",
     "output_type": "stream",
     "text": [
      "[[ 3  4  9]\n",
      " [ 1  5 10]]\n"
     ]
    }
   ],
   "source": [
    "arr = np.array([[3, 9, 4], [5, 10, 1]])\n",
    "print(np.sort(arr))\n"
   ]
  },
  {
   "cell_type": "code",
   "execution_count": null,
   "id": "b76ebae7",
   "metadata": {},
   "outputs": [],
   "source": []
  }
 ],
 "metadata": {
  "kernelspec": {
   "display_name": "Python 3 (ipykernel)",
   "language": "python",
   "name": "python3"
  },
  "language_info": {
   "codemirror_mode": {
    "name": "ipython",
    "version": 3
   },
   "file_extension": ".py",
   "mimetype": "text/x-python",
   "name": "python",
   "nbconvert_exporter": "python",
   "pygments_lexer": "ipython3",
   "version": "3.11.5"
  }
 },
 "nbformat": 4,
 "nbformat_minor": 5
}
