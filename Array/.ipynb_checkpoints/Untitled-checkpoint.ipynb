{
 "cells": [
  {
   "cell_type": "markdown",
   "id": "ce5e4688",
   "metadata": {},
   "source": [
    "# Numpy Array Filter"
   ]
  },
  {
   "cell_type": "markdown",
   "id": "98ef5869",
   "metadata": {},
   "source": [
    "###### Getting some elements out of an existing array and creating a new array out of them is called filtering."
   ]
  },
  {
   "cell_type": "code",
   "execution_count": 4,
   "id": "e7d217d4",
   "metadata": {},
   "outputs": [
    {
     "name": "stdout",
     "output_type": "stream",
     "text": [
      "[69 36]\n"
     ]
    }
   ],
   "source": [
    "import numpy as np\n",
    "\n",
    "arr = np.array([69, 96, 36, 63])\n",
    "x = [True, False, True, False]\n",
    "\n",
    "new_arr = arr[x]\n",
    "print(new_arr)\n",
    "\n",
    "# the new array contains only the values where the filter array had the value True"
   ]
  },
  {
   "cell_type": "markdown",
   "id": "cd6b09a7",
   "metadata": {},
   "source": [
    "### Creating the Filter Array"
   ]
  },
  {
   "cell_type": "code",
   "execution_count": 7,
   "id": "7672ce67",
   "metadata": {},
   "outputs": [
    {
     "name": "stdout",
     "output_type": "stream",
     "text": [
      "[True, False, True, False, True, False, False]\n",
      "[99 70 76]\n"
     ]
    }
   ],
   "source": [
    "# Create a filter array that will return only values higher than 69:\n",
    "\n",
    "arr = np.array([99, 68, 70, 8, 76, 20, 59])\n",
    "\n",
    "# creating an empty list\n",
    "filter_arr = []\n",
    "\n",
    "for element in arr:\n",
    "    if element > 69:\n",
    "        filter_arr.append(True)\n",
    "        \n",
    "    else:\n",
    "        filter_arr.append(False)\n",
    "        \n",
    "new_arr = arr[filter_arr]\n",
    "print(filter_arr)\n",
    "print(new_arr)"
   ]
  },
  {
   "cell_type": "code",
   "execution_count": 8,
   "id": "feec2a8c",
   "metadata": {},
   "outputs": [
    {
     "name": "stdout",
     "output_type": "stream",
     "text": [
      "[False, True, False, True, False, True, False]\n",
      "[2 4 6]\n"
     ]
    }
   ],
   "source": [
    "# Create a filter array that will return only even elements from the original array:\n",
    "arr = np.array([1, 2, 3, 4, 5, 6, 7])\n",
    "\n",
    "# Create an empty list\n",
    "filter_arr = []\n",
    "\n",
    "for element in arr:\n",
    "  # if the element is completely divisble by 2, set the value to True, otherwise False\n",
    "  if element % 2 == 0:\n",
    "    filter_arr.append(True)\n",
    "  else:\n",
    "    filter_arr.append(False)\n",
    "\n",
    "newarr = arr[filter_arr]\n",
    "\n",
    "print(filter_arr)\n",
    "print(newarr)"
   ]
  },
  {
   "cell_type": "markdown",
   "id": "1b101446",
   "metadata": {},
   "source": [
    "### Creating Filter Directly From Array"
   ]
  },
  {
   "cell_type": "code",
   "execution_count": 9,
   "id": "be1c2778",
   "metadata": {},
   "outputs": [
    {
     "name": "stdout",
     "output_type": "stream",
     "text": [
      "[ True False  True False  True False False]\n",
      "[99 70 76]\n"
     ]
    }
   ],
   "source": [
    "# Creating a filter array that will return only values higher than 69:\n",
    "arr = np.array([99, 68, 70, 8, 76, 20, 59])\n",
    "\n",
    "filter_arr = arr > 69\n",
    "new_arr = arr[filter_arr]\n",
    "print(filter_arr)\n",
    "print(new_arr)\n"
   ]
  }
 ],
 "metadata": {
  "kernelspec": {
   "display_name": "Python 3 (ipykernel)",
   "language": "python",
   "name": "python3"
  },
  "language_info": {
   "codemirror_mode": {
    "name": "ipython",
    "version": 3
   },
   "file_extension": ".py",
   "mimetype": "text/x-python",
   "name": "python",
   "nbconvert_exporter": "python",
   "pygments_lexer": "ipython3",
   "version": "3.11.5"
  }
 },
 "nbformat": 4,
 "nbformat_minor": 5
}
