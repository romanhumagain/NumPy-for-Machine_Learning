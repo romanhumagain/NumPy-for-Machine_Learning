{
 "cells": [
  {
   "cell_type": "markdown",
   "id": "09522772",
   "metadata": {},
   "source": [
    "# Numpy Splitting Arrays"
   ]
  },
  {
   "cell_type": "markdown",
   "id": "132fcb35",
   "metadata": {},
   "source": [
    "###### Spliting is a reverse operation of joining. Joining merges multiple arrays into one and spliting breaks one array into multiple "
   ]
  },
  {
   "cell_type": "code",
   "execution_count": 1,
   "id": "cd5c4dab",
   "metadata": {},
   "outputs": [
    {
     "name": "stdout",
     "output_type": "stream",
     "text": [
      "[array([1, 2]), array([3, 4]), array([5, 6])]\n"
     ]
    }
   ],
   "source": [
    "# splitting the arrays in 3 parts\n",
    "import numpy as np\n",
    "arr = np.array([1,2,3,4,5,6])\n",
    "\n",
    "new_arr = np.array_split(arr, 3)\n",
    "print(new_arr)"
   ]
  },
  {
   "cell_type": "markdown",
   "id": "f91a74e9",
   "metadata": {},
   "source": [
    "###### If the array has less elements than required, it will adjust from the end accordingly."
   ]
  },
  {
   "cell_type": "code",
   "execution_count": 3,
   "id": "0d12ae14",
   "metadata": {},
   "outputs": [
    {
     "name": "stdout",
     "output_type": "stream",
     "text": [
      "[array([1, 2]), array([3, 4]), array([5]), array([6])]\n"
     ]
    }
   ],
   "source": [
    "# Splitting the same above array in four parts\n",
    "new_arr = np.array_split([1,2,3,4,5,6], 4)\n",
    "print(new_arr)"
   ]
  },
  {
   "cell_type": "markdown",
   "id": "71ad1931",
   "metadata": {},
   "source": [
    "### Split Into Arrays"
   ]
  },
  {
   "cell_type": "markdown",
   "id": "535febf8",
   "metadata": {},
   "source": [
    "###### The return value of the array_split() method is an array containing each of the split as an array. If you split an array into 3 arrays, you can access them from the result just like any array element:"
   ]
  },
  {
   "cell_type": "code",
   "execution_count": 5,
   "id": "47fd8e8c",
   "metadata": {},
   "outputs": [
    {
     "name": "stdout",
     "output_type": "stream",
     "text": [
      "[1 2]\n",
      "[3 4]\n",
      "[5 6]\n"
     ]
    }
   ],
   "source": [
    "import numpy as np\n",
    "arr = np.array([1,2,3,4,5,6])\n",
    "new_arr = np.array_split(arr,3)\n",
    "\n",
    "print(new_arr[0])\n",
    "print(new_arr[1])\n",
    "print(new_arr[2])"
   ]
  },
  {
   "cell_type": "markdown",
   "id": "a7438710",
   "metadata": {},
   "source": [
    "### Splitting 2-D Arrays"
   ]
  },
  {
   "cell_type": "code",
   "execution_count": 6,
   "id": "2cf87473",
   "metadata": {},
   "outputs": [
    {
     "name": "stdout",
     "output_type": "stream",
     "text": [
      "[array([[1, 2],\n",
      "       [3, 4]]), array([[5, 6],\n",
      "       [7, 8]]), array([[ 9, 10],\n",
      "       [11, 12]])]\n"
     ]
    }
   ],
   "source": [
    "arr = np.array([[1, 2], [3, 4], [5, 6], [7, 8], [9, 10], [11, 12]])\n",
    "\n",
    "newarr = np.array_split(arr, 3)\n",
    "\n",
    "print(newarr)"
   ]
  },
  {
   "cell_type": "markdown",
   "id": "18af95be",
   "metadata": {},
   "source": [
    "##### Spliting the 2-D array into three 2-D arrays along rows."
   ]
  },
  {
   "cell_type": "code",
   "execution_count": 13,
   "id": "0cac3c76",
   "metadata": {},
   "outputs": [
    {
     "name": "stdout",
     "output_type": "stream",
     "text": [
      "[array([[ 1],\n",
      "       [ 4],\n",
      "       [ 7],\n",
      "       [10],\n",
      "       [13],\n",
      "       [16]]), array([[ 2],\n",
      "       [ 5],\n",
      "       [ 8],\n",
      "       [11],\n",
      "       [14],\n",
      "       [17]]), array([[ 3],\n",
      "       [ 6],\n",
      "       [ 9],\n",
      "       [12],\n",
      "       [15],\n",
      "       [18]])]\n"
     ]
    }
   ],
   "source": [
    "arr = np.array([[1, 2, 3], [4, 5, 6], [7, 8, 9], [10, 11, 12], [13, 14, 15], [16, 17, 18]])\n",
    "new_arr = np.array_split(arr,3, axis =1 )\n",
    "print(new_arr)"
   ]
  },
  {
   "cell_type": "markdown",
   "id": "bbbdf909",
   "metadata": {},
   "source": [
    "##### Using hsplit() method to split the 2-D array into three 2-D arrays along rows"
   ]
  },
  {
   "cell_type": "code",
   "execution_count": 12,
   "id": "4f37f957",
   "metadata": {},
   "outputs": [
    {
     "name": "stdout",
     "output_type": "stream",
     "text": [
      "[array([[ 1],\n",
      "       [ 4],\n",
      "       [ 7],\n",
      "       [10],\n",
      "       [13],\n",
      "       [16]]), array([[ 2],\n",
      "       [ 5],\n",
      "       [ 8],\n",
      "       [11],\n",
      "       [14],\n",
      "       [17]]), array([[ 3],\n",
      "       [ 6],\n",
      "       [ 9],\n",
      "       [12],\n",
      "       [15],\n",
      "       [18]])]\n"
     ]
    }
   ],
   "source": [
    "arr = np.array([[1, 2, 3], [4, 5, 6], [7, 8, 9], [10, 11, 12], [13, 14, 15], [16, 17, 18]])\n",
    "new_arr = np.hsplit(arr, 3)\n",
    "print(new_arr)"
   ]
  },
  {
   "cell_type": "code",
   "execution_count": null,
   "id": "599cd5dd",
   "metadata": {},
   "outputs": [],
   "source": []
  }
 ],
 "metadata": {
  "kernelspec": {
   "display_name": "Python 3 (ipykernel)",
   "language": "python",
   "name": "python3"
  },
  "language_info": {
   "codemirror_mode": {
    "name": "ipython",
    "version": 3
   },
   "file_extension": ".py",
   "mimetype": "text/x-python",
   "name": "python",
   "nbconvert_exporter": "python",
   "pygments_lexer": "ipython3",
   "version": "3.11.5"
  }
 },
 "nbformat": 4,
 "nbformat_minor": 5
}
