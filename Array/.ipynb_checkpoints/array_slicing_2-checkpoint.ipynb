{
 "cells": [
  {
   "cell_type": "code",
   "execution_count": 8,
   "id": "3fb5b66c",
   "metadata": {},
   "outputs": [
    {
     "name": "stdout",
     "output_type": "stream",
     "text": [
      "The element from index 1 to 5 is [ 4  6  8 10]\n",
      "The element from fourth index to the last is [10 12 14 16 18]\n"
     ]
    }
   ],
   "source": [
    "import numpy as np\n",
    "# Slicing can also define in the step like [start:end:step]\n",
    "\n",
    "arr = np.array([2, 4, 6, 8, 10, 12, 14, 16, 18])\n",
    "\n",
    "# slicing element from  1 index to 5\n",
    "print(f\"The element from index 1 to 5 is {arr[1:5]}\")\n",
    "\n",
    "\n",
    "# slicing element from fourth index to the last\n",
    "print(f\"The element from fourth index to the last is {arr[4:]}\")\n",
    "\n"
   ]
  },
  {
   "cell_type": "code",
   "execution_count": 10,
   "id": "6d9297db",
   "metadata": {},
   "outputs": [
    {
     "name": "stdout",
     "output_type": "stream",
     "text": [
      "[5 6]\n"
     ]
    }
   ],
   "source": [
    "# Negative slicing\n",
    "\n",
    "arr = np.array([1, 2, 3, 4, 5, 6, 7])\n",
    "\n",
    "# slicing from the index 2 from the last to the index 2 from the end\n",
    "\n",
    "print(arr[-3:-1])"
   ]
  },
  {
   "cell_type": "code",
   "execution_count": 15,
   "id": "9877ffab",
   "metadata": {},
   "outputs": [
    {
     "name": "stdout",
     "output_type": "stream",
     "text": [
      "[2 4]\n"
     ]
    }
   ],
   "source": [
    "# Using step in the slicing\n",
    "arr = np.array([1,2,3,4,5,6,7,8])\n",
    "\n",
    "print(arr[1:5:2])"
   ]
  },
  {
   "cell_type": "code",
   "execution_count": 18,
   "id": "7f6ad6d7",
   "metadata": {},
   "outputs": [
    {
     "name": "stdout",
     "output_type": "stream",
     "text": [
      "[7 8 9]\n",
      "The value at index 3 from both element is [3 8]\n"
     ]
    }
   ],
   "source": [
    "# Slicing 2-D Array\n",
    "arr = np.array([[1,2,3,4,5], [6,7,8,9,10]])\n",
    "\n",
    "# getting the element from the second element from index 1 to 4\n",
    "\n",
    "print(arr[1,1:4])\n",
    "\n",
    "\n",
    "# printing the value of index 3 from both element\n",
    "print(f\"The value at index 3 from both element is {arr[0:2,2]}\")"
   ]
  },
  {
   "cell_type": "code",
   "execution_count": null,
   "id": "eed26885",
   "metadata": {},
   "outputs": [],
   "source": [
    "arr = np.array([[1, 2, 3, 4, 5], [6, 7, 8, 9, 10]])\n",
    "\n",
    "print(arr[0:2, 1:4])"
   ]
  }
 ],
 "metadata": {
  "kernelspec": {
   "display_name": "Python 3 (ipykernel)",
   "language": "python",
   "name": "python3"
  },
  "language_info": {
   "codemirror_mode": {
    "name": "ipython",
    "version": 3
   },
   "file_extension": ".py",
   "mimetype": "text/x-python",
   "name": "python",
   "nbconvert_exporter": "python",
   "pygments_lexer": "ipython3",
   "version": "3.11.5"
  }
 },
 "nbformat": 4,
 "nbformat_minor": 5
}
