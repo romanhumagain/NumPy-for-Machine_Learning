{
 "cells": [
  {
   "cell_type": "markdown",
   "id": "638c2203",
   "metadata": {},
   "source": [
    "# Shape of an Array"
   ]
  },
  {
   "cell_type": "markdown",
   "id": "0933b002",
   "metadata": {},
   "source": [
    "###### The shape of an array is the number of elements in each dimension"
   ]
  },
  {
   "cell_type": "code",
   "execution_count": 13,
   "id": "cc0cdf01",
   "metadata": {},
   "outputs": [
    {
     "name": "stdout",
     "output_type": "stream",
     "text": [
      "[[1 2 3 4 6]\n",
      " [6 7 8 9 7]]\n",
      "(2, 5)\n"
     ]
    }
   ],
   "source": [
    "import numpy as np\n",
    "arr = np.array([[1,2,3,4,6],[6, 7, 8, 9,7]])\n",
    "\n",
    "# printing the shape of a 2-D array\n",
    "print(arr)\n",
    "print(arr.shape)\n"
   ]
  },
  {
   "cell_type": "code",
   "execution_count": 11,
   "id": "2288f68b",
   "metadata": {},
   "outputs": [
    {
     "name": "stdout",
     "output_type": "stream",
     "text": [
      "[[[[[1 2 3 4]]]]]\n",
      "The shape of an array is (1, 1, 1, 1, 4)\n"
     ]
    }
   ],
   "source": [
    "# creating an array with 5 dimension using ndmin using a vector with values 1,2,3,4 and varify that the last dimension has value 4\n",
    "import numpy as np\n",
    "arr_1 = np.array([1,2,3,4], ndmin = 5)\n",
    "\n",
    "print(arr_1)\n",
    "print(f\"The shape of an array is {arr_1.shape}\")"
   ]
  },
  {
   "cell_type": "markdown",
   "id": "a4597d2a",
   "metadata": {},
   "source": [
    "### What does the shape tuple represent ?\n"
   ]
  },
  {
   "cell_type": "markdown",
   "id": "e45ef0c4",
   "metadata": {},
   "source": [
    "###### Integers at every index tells abount the number of element the corresponding dimension has. "
   ]
  }
 ],
 "metadata": {
  "kernelspec": {
   "display_name": "Python 3 (ipykernel)",
   "language": "python",
   "name": "python3"
  },
  "language_info": {
   "codemirror_mode": {
    "name": "ipython",
    "version": 3
   },
   "file_extension": ".py",
   "mimetype": "text/x-python",
   "name": "python",
   "nbconvert_exporter": "python",
   "pygments_lexer": "ipython3",
   "version": "3.11.5"
  }
 },
 "nbformat": 4,
 "nbformat_minor": 5
}
