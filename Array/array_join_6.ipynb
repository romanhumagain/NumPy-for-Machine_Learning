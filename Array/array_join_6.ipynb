{
 "cells": [
  {
   "cell_type": "markdown",
   "id": "ef923435",
   "metadata": {},
   "source": [
    "# NumPy Joining Array"
   ]
  },
  {
   "cell_type": "markdown",
   "id": "efc04337",
   "metadata": {},
   "source": [
    "###### Joining means putting the content of two or more array in a single array. In numpy we join array by using axes. We pass a sequence of array that we want to join to the concatenate() function along with the axis, if not passed axis it is taken as 0"
   ]
  },
  {
   "cell_type": "code",
   "execution_count": 24,
   "id": "30aa5ccf",
   "metadata": {},
   "outputs": [
    {
     "name": "stdout",
     "output_type": "stream",
     "text": [
      "The concatenated array so formed is: [1 2 3 4 2 4 6 8 1 3 5 7]\n"
     ]
    }
   ],
   "source": [
    "import numpy as np\n",
    "\n",
    "arr1 = np.array([1,2,3,4])\n",
    "arr2 = np.array([2,4,6,8])\n",
    "arr3 = np.array([1,3,5,7])\n",
    "\n",
    "combined_arr = np.concatenate((arr1, arr2, arr3))\n",
    "print(f\"The concatenated array so formed is: {combined_arr}\")"
   ]
  },
  {
   "cell_type": "markdown",
   "id": "7aedb9da",
   "metadata": {},
   "source": [
    "###### Joining two 2-D arrays along rows (axis=1):"
   ]
  },
  {
   "cell_type": "code",
   "execution_count": 7,
   "id": "46703649",
   "metadata": {},
   "outputs": [
    {
     "name": "stdout",
     "output_type": "stream",
     "text": [
      "[[1 2 5 6]\n",
      " [3 4 7 8]]\n"
     ]
    }
   ],
   "source": [
    "arr1 = np.array([[1, 2], [3, 4]])\n",
    "\n",
    "arr2 = np.array([[5, 6], [7, 8]])\n",
    "\n",
    "arr = np.concatenate((arr1, arr2), axis = 1)\n",
    "\n",
    "print(arr)\n",
    "\n"
   ]
  },
  {
   "cell_type": "markdown",
   "id": "79fcdaea",
   "metadata": {},
   "source": [
    "#### Joining Arrays Using Stack Functions"
   ]
  },
  {
   "cell_type": "markdown",
   "id": "1cff8802",
   "metadata": {},
   "source": [
    "###### Stacking is same as concatenation, the only difference is that stacking is done along a new axis.. We can concatenate two 1-D arrays along the second axis which would result in putting them one over the other, ie. stacking. We pass a sequence of arrays that we want to join to the stack() method along with the axis. If axis is not explicitly passed it is taken as 0."
   ]
  },
  {
   "cell_type": "code",
   "execution_count": 26,
   "id": "bb2715c3",
   "metadata": {},
   "outputs": [
    {
     "name": "stdout",
     "output_type": "stream",
     "text": [
      "[[1 4]\n",
      " [2 5]\n",
      " [3 6]]\n"
     ]
    }
   ],
   "source": [
    "arr1 = np.array([1, 2, 3])\n",
    "\n",
    "arr2 = np.array([4, 5, 6])\n",
    "\n",
    "arr = np.stack((arr1, arr2), axis = 1)\n",
    "print(arr)"
   ]
  },
  {
   "cell_type": "markdown",
   "id": "612915f6",
   "metadata": {},
   "source": [
    "#### Stacking Along Rows"
   ]
  },
  {
   "cell_type": "markdown",
   "id": "11f90b24",
   "metadata": {},
   "source": [
    "###### NumPy provides a helper function - hstack() to stack along rows"
   ]
  },
  {
   "cell_type": "code",
   "execution_count": 30,
   "id": "ce9f6546",
   "metadata": {},
   "outputs": [
    {
     "name": "stdout",
     "output_type": "stream",
     "text": [
      "[1 2 3 4 5 6]\n"
     ]
    }
   ],
   "source": [
    "arr1 = np.array([1, 2, 3])\n",
    "\n",
    "arr2 = np.array([4, 5, 6])\n",
    "\n",
    "arr = np.hstack((arr1, arr2))\n",
    "print(arr)"
   ]
  },
  {
   "cell_type": "markdown",
   "id": "9941bae0",
   "metadata": {},
   "source": [
    "#### Stacking Along Columns"
   ]
  },
  {
   "cell_type": "markdown",
   "id": "3d324213",
   "metadata": {},
   "source": [
    "###### NumPy provides a helper function: vstack()  to stack along columns."
   ]
  },
  {
   "cell_type": "code",
   "execution_count": 22,
   "id": "688a6dae",
   "metadata": {},
   "outputs": [
    {
     "name": "stdout",
     "output_type": "stream",
     "text": [
      "[[1 2 3]\n",
      " [4 5 6]]\n"
     ]
    }
   ],
   "source": [
    "arr1 = np.array([1, 2, 3])\n",
    "\n",
    "arr2 = np.array([4, 5, 6])\n",
    "\n",
    "arr = np.vstack((arr1, arr2))\n",
    "print(arr)"
   ]
  }
 ],
 "metadata": {
  "kernelspec": {
   "display_name": "Python 3 (ipykernel)",
   "language": "python",
   "name": "python3"
  },
  "language_info": {
   "codemirror_mode": {
    "name": "ipython",
    "version": 3
   },
   "file_extension": ".py",
   "mimetype": "text/x-python",
   "name": "python",
   "nbconvert_exporter": "python",
   "pygments_lexer": "ipython3",
   "version": "3.11.5"
  }
 },
 "nbformat": 4,
 "nbformat_minor": 5
}
