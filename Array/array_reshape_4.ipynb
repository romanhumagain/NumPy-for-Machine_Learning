{
 "cells": [
  {
   "cell_type": "markdown",
   "id": "7a30d3be",
   "metadata": {},
   "source": [
    "# Array Reshaping"
   ]
  },
  {
   "cell_type": "markdown",
   "id": "7e1ffe82",
   "metadata": {},
   "source": [
    "###### Reshaping an array means changing the shape of an array,  The shape of an array is the number of element in each dimension"
   ]
  },
  {
   "cell_type": "code",
   "execution_count": 2,
   "id": "dce35d52",
   "metadata": {},
   "outputs": [
    {
     "name": "stdout",
     "output_type": "stream",
     "text": [
      "The converted array is : [[ 1  2  3]\n",
      " [ 4  5  6]\n",
      " [ 7  8  9]\n",
      " [10 11 12]]\n"
     ]
    }
   ],
   "source": [
    "# Reshaping from 1-D to 2-D\n",
    "import numpy as np\n",
    "# creating an 1-D array with 12 elements and converting it into 2-D , where outermost dimension will contrain 4 arrays with 3 elements in eac\n",
    "\n",
    "arr = np.array([1,2,3,4,5,6,7,8,9,10,11,12])\n",
    "\n",
    "# converting it into 2-D array\n",
    "new_arr = arr.reshape(4, 3)\n",
    "print(f\"The converted array is : {new_arr}\")"
   ]
  },
  {
   "cell_type": "code",
   "execution_count": 7,
   "id": "3f52c4e6",
   "metadata": {},
   "outputs": [
    {
     "name": "stdout",
     "output_type": "stream",
     "text": [
      "The converted 3-D arrays is [[[ 1  2]\n",
      "  [ 3  4]\n",
      "  [ 5  6]]\n",
      "\n",
      " [[ 7  8]\n",
      "  [ 9 10]\n",
      "  [11 12]]]\n"
     ]
    }
   ],
   "source": [
    "# Reshping from 1-D to 3-D\n",
    "\n",
    "# creating an array with 12 elements and converting it into 3-D array where outermost dimension contain 2 array that contains 3 arrays  with 2 elements  in each \n",
    "one_dimn = np.array([1,2,3,4,5,6,7,8,9,10,11,12])\n",
    "new_Arr = one_dimn.reshape(2, 3, 2)\n",
    "\n",
    "print(f\"The converted 3-D arrays is {new_Arr}\")"
   ]
  },
  {
   "cell_type": "markdown",
   "id": "37be2e12",
   "metadata": {},
   "source": [
    "## Can we reshape into any shape ?"
   ]
  },
  {
   "cell_type": "markdown",
   "id": "d9ed72b8",
   "metadata": {},
   "source": [
    "###### e.g: We can Reshape an 8 elements 1D array into 4 elements in 2 rows in 2D array but we cannot reshape it into 3 elements 2D array as it required 3x3 = 9 elements.    "
   ]
  },
  {
   "cell_type": "code",
   "execution_count": 9,
   "id": "55502787",
   "metadata": {},
   "outputs": [
    {
     "ename": "ValueError",
     "evalue": "cannot reshape array of size 8 into shape (3,3)",
     "output_type": "error",
     "traceback": [
      "\u001b[1;31m---------------------------------------------------------------------------\u001b[0m",
      "\u001b[1;31mValueError\u001b[0m                                Traceback (most recent call last)",
      "Cell \u001b[1;32mIn[9], line 3\u001b[0m\n\u001b[0;32m      1\u001b[0m \u001b[38;5;28;01mimport\u001b[39;00m \u001b[38;5;21;01mnumpy\u001b[39;00m \u001b[38;5;28;01mas\u001b[39;00m \u001b[38;5;21;01mnp\u001b[39;00m\n\u001b[0;32m      2\u001b[0m one_dimn_arr \u001b[38;5;241m=\u001b[39m np\u001b[38;5;241m.\u001b[39marray([\u001b[38;5;241m1\u001b[39m, \u001b[38;5;241m2\u001b[39m, \u001b[38;5;241m3\u001b[39m, \u001b[38;5;241m4\u001b[39m, \u001b[38;5;241m5\u001b[39m, \u001b[38;5;241m6\u001b[39m, \u001b[38;5;241m7\u001b[39m, \u001b[38;5;241m8\u001b[39m])\n\u001b[1;32m----> 3\u001b[0m new_arr \u001b[38;5;241m=\u001b[39m one_dimn_arr\u001b[38;5;241m.\u001b[39mreshape(\u001b[38;5;241m3\u001b[39m, \u001b[38;5;241m3\u001b[39m)\n\u001b[0;32m      5\u001b[0m \u001b[38;5;28mprint\u001b[39m(new_arr)\n",
      "\u001b[1;31mValueError\u001b[0m: cannot reshape array of size 8 into shape (3,3)"
     ]
    }
   ],
   "source": [
    "import numpy as np\n",
    "one_dimn_arr = np.array([1, 2, 3, 4, 5, 6, 7, 8])\n",
    "new_arr = one_dimn_arr.reshape(3, 3)\n",
    "\n",
    "print(new_arr)"
   ]
  },
  {
   "cell_type": "markdown",
   "id": "03c59ed5",
   "metadata": {},
   "source": [
    "## Returns Copy or View?"
   ]
  },
  {
   "cell_type": "code",
   "execution_count": 15,
   "id": "752ce136",
   "metadata": {},
   "outputs": [
    {
     "name": "stdout",
     "output_type": "stream",
     "text": [
      "[[1 2]\n",
      " [3 4]]\n",
      "******\n",
      "[1 2 3 4]\n"
     ]
    }
   ],
   "source": [
    "import numpy as  np\n",
    "arr = np.array([1,2,3,4])\n",
    "reshaped_arr = arr.reshape(2,2)\n",
    "print(reshaped_arr)\n",
    "\n",
    "print(\"******\")\n",
    "\n",
    "# checking whether it is copy or view\n",
    "print(reshaped_arr.base)  # [1 2 3 4] :- it requrns the orignal array so it is view\n"
   ]
  },
  {
   "cell_type": "markdown",
   "id": "b9bff84f",
   "metadata": {},
   "source": [
    "# Unknown Dimension"
   ]
  },
  {
   "cell_type": "markdown",
   "id": "2f9bd2b3",
   "metadata": {},
   "source": [
    "###### We are allowed to have one \"unknown dimension\". Meaning that we do not have to specify an exact number for one of the dimension in the reshape method . Pass -1 as the value  and NumPy will calculate the number for you"
   ]
  },
  {
   "cell_type": "code",
   "execution_count": 19,
   "id": "d8ca171b",
   "metadata": {},
   "outputs": [
    {
     "name": "stdout",
     "output_type": "stream",
     "text": [
      "[[[1 2]\n",
      "  [3 4]]\n",
      "\n",
      " [[5 6]\n",
      "  [7 8]]]\n"
     ]
    }
   ],
   "source": [
    "# Converting 1D array with 8 elements in 3D array that returns a 2 arrays as its element with 2 arrays with 3 element \n",
    "\n",
    "arr = np.array([1, 2, 3, 4, 5, 6, 7, 8])\n",
    "reshaped_arr = arr.reshape(2, 2, -1)\n",
    "\n",
    "print(reshaped_arr)"
   ]
  },
  {
   "cell_type": "markdown",
   "id": "0f3c5fda",
   "metadata": {},
   "source": [
    "# Flattening the arrays"
   ]
  },
  {
   "cell_type": "markdown",
   "id": "43bbb28b",
   "metadata": {},
   "source": [
    "###### Flattening means converting a multidimensional array into 1D array"
   ]
  },
  {
   "cell_type": "code",
   "execution_count": 20,
   "id": "3e8286cc",
   "metadata": {},
   "outputs": [
    {
     "name": "stdout",
     "output_type": "stream",
     "text": [
      "[1 2 3 4 5 6]\n"
     ]
    }
   ],
   "source": [
    "import numpy as np\n",
    "\n",
    "arr = np.array([[1, 2, 3], [4, 5, 6]])\n",
    "\n",
    "newarr = arr.reshape(-1)\n",
    "\n",
    "print(newarr) # [1 2 3 4 5 6]"
   ]
  }
 ],
 "metadata": {
  "kernelspec": {
   "display_name": "Python 3 (ipykernel)",
   "language": "python",
   "name": "python3"
  },
  "language_info": {
   "codemirror_mode": {
    "name": "ipython",
    "version": 3
   },
   "file_extension": ".py",
   "mimetype": "text/x-python",
   "name": "python",
   "nbconvert_exporter": "python",
   "pygments_lexer": "ipython3",
   "version": "3.11.5"
  }
 },
 "nbformat": 4,
 "nbformat_minor": 5
}
