{
 "cells": [
  {
   "cell_type": "markdown",
   "id": "6def0726",
   "metadata": {},
   "source": [
    "# Descriptive Statistics \n"
   ]
  },
  {
   "cell_type": "code",
   "execution_count": 15,
   "id": "52b9e6e3",
   "metadata": {},
   "outputs": [
    {
     "name": "stdout",
     "output_type": "stream",
     "text": [
      "The mean of the dataset is  18.5\n"
     ]
    }
   ],
   "source": [
    "# calculate the mean, median and mode of the dataset [10, 15, 12, 18, 20, 15, 22, 18, 25,30].\n",
    "\n",
    "# to calculate the mean\n",
    "import numpy as np\n",
    "data = np.array([10, 15, 12, 18, 20, 15, 22, 18, 25,30])\n",
    "total_sum = np.sum(data)\n",
    "n = len(data)\n",
    "\n",
    "mean = total_sum / n\n",
    "print(f\"The mean of the dataset is  {mean}\")\n"
   ]
  },
  {
   "cell_type": "code",
   "execution_count": 18,
   "id": "59d55740",
   "metadata": {},
   "outputs": [
    {
     "name": "stdout",
     "output_type": "stream",
     "text": [
      "The median of the dataset is 18.0\n",
      "20\n"
     ]
    }
   ],
   "source": [
    "# to calculate the median\n",
    "\n",
    "# to sort the data \n",
    "sorted_data = np.sort(data)\n",
    "\n",
    "# to check the number of element in the numpy array\n",
    "n = len(sorted_data)\n",
    "\n",
    "if n % 2 == 0:\n",
    "    # If the number of elements is even\n",
    "    middle1 = sorted_data[n // 2 - 1]\n",
    "    middle2 = sorted_data[n // 2]\n",
    "    median = (middle1 + middle2) / 2\n",
    "else:\n",
    "    # If the number of elements is odd\n",
    "    median = sorted_data[n // 2]\n",
    "\n",
    "print(f\"The median of the dataset is {median}\")\n"
   ]
  },
  {
   "cell_type": "markdown",
   "id": "a8e97c47",
   "metadata": {},
   "source": [
    "# Question: Probability"
   ]
  },
  {
   "cell_type": "markdown",
   "id": "0b1abecd",
   "metadata": {},
   "source": [
    "###### A standard deck of playing cards is shuffled. What is the probability of drawing a spade?\n",
    "Given two lists x and y:\n",
    "x = [1, 2, 3, 4, 5] y = [2, 4, 6, 8, 10]\n"
   ]
  },
  {
   "cell_type": "code",
   "execution_count": 1,
   "id": "336b075f",
   "metadata": {},
   "outputs": [
    {
     "name": "stdout",
     "output_type": "stream",
     "text": [
      "The probability is 0.25\n"
     ]
    }
   ],
   "source": [
    "n_spades = 13\n",
    "n_cards = 52\n",
    "\n",
    "probability = n_spades / n_cards\n",
    "print(f\"The probability is {probability}\")\n"
   ]
  },
  {
   "cell_type": "markdown",
   "id": "126f7d6d",
   "metadata": {},
   "source": [
    "# Question: Correlation"
   ]
  },
  {
   "cell_type": "code",
   "execution_count": 3,
   "id": "2328be04",
   "metadata": {},
   "outputs": [
    {
     "name": "stdout",
     "output_type": "stream",
     "text": [
      "Correlation Coefficient: 0.9999999999999999\n"
     ]
    }
   ],
   "source": [
    "import numpy as np\n",
    "# Given lists\n",
    "x = np.array([1, 2, 3, 4, 5])\n",
    "y = np.array([2, 4, 6, 8, 10])\n",
    "\n",
    "# Calculate correlation coefficient\n",
    "correlation_coefficient = np.corrcoef(x, y)[0, 1]\n",
    "\n",
    "print(\"Correlation Coefficient:\", correlation_coefficient)"
   ]
  },
  {
   "cell_type": "markdown",
   "id": "c2d983fb",
   "metadata": {},
   "source": [
    "# Question: Normal Distribution"
   ]
  },
  {
   "cell_type": "markdown",
   "id": "fba0f2ae",
   "metadata": {},
   "source": [
    "###### Generate a random sample of 100 data points from a normal distribution with a mean of 50 and a standard deviation of 10. Calculate the percentage of data points that fall within one standard deviation of the mean."
   ]
  },
  {
   "cell_type": "code",
   "execution_count": 5,
   "id": "cb9048b8",
   "metadata": {},
   "outputs": [
    {
     "name": "stdout",
     "output_type": "stream",
     "text": [
      "Percentage of data points that fall within one standard deviation: 68.27%\n"
     ]
    }
   ],
   "source": [
    "import numpy as np\n",
    "from scipy.stats import norm\n",
    "\n",
    "# setting the mean and the standard deviation\n",
    "mean = 50\n",
    "std_dev = 10\n",
    "\n",
    "# Generating a random sample of 100 data points from a normal distribution\n",
    "data_points = np.random.normal(mean, std_dev, 100)\n",
    "\n",
    "# Calculate the range within one standard deviation of the mean\n",
    "lower_bound = mean - std_dev\n",
    "upper_bound = mean + std_dev\n",
    "\n",
    "# Calculate the percentage of data points within one standard deviation\n",
    "percentage_within_one_std_dev = norm.cdf(upper_bound, mean, std_dev) - norm.cdf(lower_bound, mean, std_dev)\n",
    "\n",
    "percentage_within_one_std_dev *= 100\n",
    "\n",
    "print(f\"Percentage of data points that fall within one standard deviation: {percentage_within_one_std_dev:.2f}%\")\n"
   ]
  },
  {
   "cell_type": "markdown",
   "id": "5358d53c",
   "metadata": {},
   "source": [
    "# Question: Variability"
   ]
  },
  {
   "cell_type": "markdown",
   "id": "02879515",
   "metadata": {},
   "source": [
    "###### Calculate the range and the standard deviation of the dataset: [5, 8, 12, 15, 18, 20]"
   ]
  },
  {
   "cell_type": "code",
   "execution_count": 8,
   "id": "69ecad74",
   "metadata": {},
   "outputs": [
    {
     "name": "stdout",
     "output_type": "stream",
     "text": [
      "The value of range is 15\n"
     ]
    }
   ],
   "source": [
    "import numpy as np\n",
    "\n",
    "# creating a numpy array\n",
    "arr = np.array([5, 8, 12, 15, 18, 20])\n",
    "\n",
    "# finding the max and min value\n",
    "max_val = np.max(arr)\n",
    "min_val = np.min(arr)\n",
    "\n",
    "# finding the range\n",
    "Range = max_val - min_val\n",
    "print(f\"The value of range is {Range}\")\n"
   ]
  },
  {
   "cell_type": "markdown",
   "id": "3ece3bf2",
   "metadata": {},
   "source": [
    "##### Finding the standard deviation of the above data"
   ]
  },
  {
   "cell_type": "code",
   "execution_count": 18,
   "id": "4839a1f3",
   "metadata": {},
   "outputs": [
    {
     "name": "stdout",
     "output_type": "stream",
     "text": [
      "The value of standard deviation is 5.291502622129181\n"
     ]
    }
   ],
   "source": [
    "import numpy as np\n",
    "import math\n",
    "dataset = [5, 8, 12, 15, 18, 20]\n",
    "\n",
    "# finding the mean of the dataset\n",
    "mean_value = sum(dataset) / len(dataset)\n",
    "\n",
    "# subtract the mean and the square of the result\n",
    "squared_diff = []\n",
    "for i in dataset:\n",
    "    result = (i - mean_value)**2\n",
    "    squared_diff.append(result)\n",
    "    \n",
    "# finding the mean of squared difference\n",
    "mean_squared_diff = sum(squared_diff) / len(dataset)\n",
    "\n",
    "# calculating the square root\n",
    "std_deviation = math.sqrt(mean_squared_diff)\n",
    "\n",
    "print(f\"The value of standard deviation is {std_deviation}\")\n",
    "    \n"
   ]
  },
  {
   "cell_type": "markdown",
   "id": "23a5b5ac",
   "metadata": {},
   "source": [
    "# Question : Chi-square Test"
   ]
  },
  {
   "cell_type": "code",
   "execution_count": null,
   "id": "154a9d9d",
   "metadata": {},
   "outputs": [],
   "source": [
    "from scipy.stats import chisquare\n",
    "\n",
    "# Given data\n",
    "observed_values = np.array([25, 30, 15, 20])\n",
    "expected_values = np.array([20, 25, 20, 25])\n",
    "\n",
    "# Perform chi-square test\n",
    "chi2, p_value = chisquare(observed_values, f_exp=expected_values)\n",
    "\n",
    "print(f\"Chi-square value: {chi2}\")\n",
    "print(f\"P-value: {p_value}\")"
   ]
  }
 ],
 "metadata": {
  "kernelspec": {
   "display_name": "Python 3 (ipykernel)",
   "language": "python",
   "name": "python3"
  },
  "language_info": {
   "codemirror_mode": {
    "name": "ipython",
    "version": 3
   },
   "file_extension": ".py",
   "mimetype": "text/x-python",
   "name": "python",
   "nbconvert_exporter": "python",
   "pygments_lexer": "ipython3",
   "version": "3.11.5"
  }
 },
 "nbformat": 4,
 "nbformat_minor": 5
}
